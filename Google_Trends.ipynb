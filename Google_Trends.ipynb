{
 "cells": [
  {
   "cell_type": "code",
   "execution_count": 15,
   "metadata": {},
   "outputs": [],
   "source": [
    "import google_trends_scraper as gts\n",
    "import pytrends as pyt\n",
    "import pandas as pd\n",
    "import numpy as np\n",
    "import matplotlib.pyplot as plt\n",
    "import datetime as dt\n"
   ]
  },
  {
   "cell_type": "code",
   "execution_count": 30,
   "metadata": {},
   "outputs": [
    {
     "name": "stdout",
     "output_type": "stream",
     "text": [
      "Boyner\n",
      "Migros Sanal Market + Kangurum + Sanal Market\n",
      "hepsiburada\n",
      "bizimtoptan\n",
      "carrefoursa + sen al market\n",
      "ebebek\n",
      "gittigidiyor\n",
      "Koctas\n",
      "Koton\n",
      "lcwaikiki\n",
      "MacroCenter\n",
      "mediamarkt\n",
      "morhipo\n",
      "n11\n",
      "sahibinden\n",
      "teknosa\n",
      "trendyol\n",
      "yemeksepeti\n",
      "Vatan Bilgisayar\n",
      "İstanbul Bilişim\n",
      "Çiçek Sepeti\n",
      "Kalemlik\n",
      "idefix\n",
      "d&r\n",
      "happy.com\n",
      "avansas\n",
      "dekorazon\n",
      "amazon\n",
      "beymen\n",
      "Lidyana\n",
      "Markafoni\n",
      "Getir\n",
      "Letgo\n",
      "Gurmenet\n",
      "Memlekettengelsin\n",
      "Portakalbahcem\n",
      "Marul.com\n",
      "Tazemasa\n"
     ]
    }
   ],
   "source": [
    "from pytrends.request import TrendReq\n",
    "\n",
    "pytrends = TrendReq(hl='en-US')\n",
    "\n",
    "kw_list = [\"Boyner\",\"Migros Sanal Market + Kangurum + Sanal Market\", \"hepsiburada\",\"bizimtoptan\",\n",
    "          \"carrefoursa + sen al market\", \"ebebek\", \"gittigidiyor\",\"Koctas\",\"Koton\",\"lcwaikiki\",\n",
    "          \"MacroCenter\",\"mediamarkt\",\"morhipo\",\"n11\",\"sahibinden\",\"teknosa\",\"trendyol\",\"yemeksepeti\",\n",
    "          \"Vatan Bilgisayar\",\"İstanbul Bilişim\",\"Çiçek Sepeti\",\"Kalemlik\",\"idefix\",\"d&r\",\"happy.com\",\n",
    "          \"avansas\",\"dekorazon\",\"amazon\",\"beymen\",\"Lidyana\",\"Markafoni\",\"Getir\",\"Letgo\",\"Gurmenet\",\n",
    "          \"Memlekettengelsin\",\"Portakalbahcem\",\"Marul.com\",\"Tazemasa\"]\n",
    "for i in kw_list:\n",
    "    print(i)\n",
    "    pytrends.build_payload([i], cat=18, timeframe='2013-09-15 2018-09-13', geo='TR')\n",
    "    df = pytrends.interest_over_time()\n",
    "    df.to_excel(i + '_'+ str(dt.date.today()) + '.xlsx')"
   ]
  },
  {
   "cell_type": "code",
   "execution_count": null,
   "metadata": {},
   "outputs": [],
   "source": [
    "print(df.head())\n",
    "\n",
    "df_msm = df['Migros Sanal Market + Kangurum']\n",
    "#df_sm = df['Sanal Market']\n",
    "#df_boy = df['Boyner']\n"
   ]
  },
  {
   "cell_type": "code",
   "execution_count": null,
   "metadata": {},
   "outputs": [],
   "source": [
    "print(np.shape(df_msm))\n",
    "print(df_msm.head())"
   ]
  },
  {
   "cell_type": "code",
   "execution_count": null,
   "metadata": {},
   "outputs": [],
   "source": [
    "plt.figure(figsize = (20, 3))\n",
    "df_msm.plot()\n",
    "plt.show()"
   ]
  },
  {
   "cell_type": "code",
   "execution_count": null,
   "metadata": {},
   "outputs": [],
   "source": [
    "plt.figure(figsize = (20, 3))\n",
    "df_hb.plot()\n",
    "plt.show()"
   ]
  },
  {
   "cell_type": "code",
   "execution_count": null,
   "metadata": {},
   "outputs": [],
   "source": [
    "df_msm.to_excel('MSM_7_Eylul_Verisi.xlsx')"
   ]
  },
  {
   "cell_type": "code",
   "execution_count": null,
   "metadata": {},
   "outputs": [],
   "source": []
  },
  {
   "cell_type": "code",
   "execution_count": null,
   "metadata": {},
   "outputs": [],
   "source": []
  },
  {
   "cell_type": "code",
   "execution_count": null,
   "metadata": {},
   "outputs": [],
   "source": []
  },
  {
   "cell_type": "code",
   "execution_count": null,
   "metadata": {},
   "outputs": [],
   "source": []
  }
 ],
 "metadata": {
  "kernelspec": {
   "display_name": "Python 3",
   "language": "python",
   "name": "python3"
  },
  "language_info": {
   "codemirror_mode": {
    "name": "ipython",
    "version": 3
   },
   "file_extension": ".py",
   "mimetype": "text/x-python",
   "name": "python",
   "nbconvert_exporter": "python",
   "pygments_lexer": "ipython3",
   "version": "3.6.5"
  }
 },
 "nbformat": 4,
 "nbformat_minor": 2
}
